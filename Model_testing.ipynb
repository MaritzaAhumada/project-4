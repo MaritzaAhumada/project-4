{
 "cells": [
  {
   "cell_type": "code",
   "execution_count": 23,
   "metadata": {
    "tags": []
   },
   "outputs": [],
   "source": [
    "import pandas as pd\n",
    "from sklearn.model_selection import train_test_split\n",
    "from sklearn.linear_model import LinearRegression\n",
    "from sklearn.metrics import mean_squared_error\n",
    "from sklearn.preprocessing import StandardScaler, OneHotEncoder\n",
    "from sklearn.impute import SimpleImputer  \n",
    "from sklearn.compose import ColumnTransformer\n",
    "from sklearn.pipeline import Pipeline"
   ]
  },
  {
   "cell_type": "code",
   "execution_count": 24,
   "metadata": {
    "tags": []
   },
   "outputs": [
    {
     "name": "stdout",
     "output_type": "stream",
     "text": [
      "         director_name  imdb_score\n",
      "1084    John Blanchard         9.5\n",
      "1620  Mitchell Altieri         8.7\n",
      "2011  Sadyk Sher-Niyaz         8.7\n",
      "299          Cary Bell         8.7\n",
      "1606      Mike Mayhall         8.6\n",
      "315    Charles Chaplin         8.6\n",
      "1417      Majid Majidi         8.5\n",
      "1979        Ron Fricke         8.5\n",
      "428    Damien Chazelle         8.5\n",
      "1835        Raja Menon         8.5\n"
     ]
    }
   ],
   "source": [
    "cleaned_path = '/Users/xueyilu/Desktop/Project-4/Cleaned_data/cleaned_data.csv'\n",
    "\n",
    "df = pd.read_csv(cleaned_path)\n",
    "\n",
    "director_scores = df.groupby('director_name')['imdb_score'].mean().reset_index()\n",
    "\n",
    "sorted_directors = director_scores.sort_values(by='imdb_score', ascending=False)\n",
    "\n",
    "print(sorted_directors.head(10))"
   ]
  },
  {
   "cell_type": "code",
   "execution_count": 30,
   "metadata": {
    "tags": []
   },
   "outputs": [
    {
     "name": "stdout",
     "output_type": "stream",
     "text": [
      "RMSE: 1.0191965228400772\n",
      "    Actual IMDb Score  Predicted IMDb Score\n",
      "0                 7.1              6.441213\n",
      "1                 7.0              6.697981\n",
      "2                 5.1              6.148519\n",
      "3                 7.4              6.175872\n",
      "4                 7.1              6.329049\n",
      "5                 8.5              7.957976\n",
      "6                 6.1              6.143567\n",
      "7                 4.4              6.083896\n",
      "8                 5.8              6.479220\n",
      "9                 5.5              6.138016\n",
      "10                7.8              6.127276\n",
      "11                5.5              6.678912\n",
      "12                6.2              6.275918\n",
      "13                7.0              6.502596\n",
      "14                5.8              6.308380\n",
      "15                6.0              6.213442\n",
      "16                7.1              6.402549\n",
      "17                7.8              6.469566\n",
      "18                6.5              6.208959\n",
      "19                7.4              6.169278\n",
      "20                5.4              6.347446\n",
      "21                3.9              6.076048\n",
      "22                6.6              6.341568\n",
      "23                7.5              6.590756\n",
      "24                7.3              7.529614\n",
      "25                3.6              6.246787\n",
      "26                6.7              6.196474\n",
      "27                6.4              6.117788\n",
      "28                8.0              7.088187\n",
      "29                7.1              7.029907\n"
     ]
    }
   ],
   "source": [
    "X = df[['director_facebook_likes', 'num_critic_for_reviews', 'num_voted_users', 'movie_facebook_likes']] \n",
    "y = df['imdb_score']\n",
    "\n",
    "# Preprocessing for numeric data\n",
    "numeric_features = ['director_facebook_likes', 'num_critic_for_reviews', 'num_voted_users', 'movie_facebook_likes']\n",
    "numeric_transformer = Pipeline(steps=[\n",
    "    ('imputer', SimpleImputer(strategy='mean')), \n",
    "    ('scaler', StandardScaler())\n",
    "])\n",
    "\n",
    "# Combine preprocessing steps\n",
    "preprocessor = ColumnTransformer(\n",
    "    transformers=[\n",
    "        ('num', numeric_transformer, numeric_features)\n",
    "    ])\n",
    "\n",
    "# Create preprocessing and training pipeline\n",
    "model = Pipeline(steps=[('preprocessor', preprocessor),\n",
    "                        ('regressor', LinearRegression())])\n",
    "\n",
    "# Split data into train and test sets\n",
    "X_train, X_test, y_train, y_test = train_test_split(X, y, test_size=0.2, random_state=0)\n",
    "\n",
    "# Fit model\n",
    "model.fit(X_train, y_train)\n",
    "\n",
    "# Predict and evaluate\n",
    "y_pred = model.predict(X_test)\n",
    "print(f\"RMSE: {mean_squared_error(y_test, y_pred, squared=False)}\")\n",
    "\n",
    "# Create a DataFrame to compare actual and predicted values\n",
    "comparison_df = pd.DataFrame({'Actual IMDb Score': y_test, 'Predicted IMDb Score': y_pred})\n",
    "comparison_df = comparison_df.reset_index(drop=True)\n",
    "print(comparison_df.head(30))\n"
   ]
  },
  {
   "cell_type": "code",
   "execution_count": null,
   "metadata": {
    "tags": []
   },
   "outputs": [],
   "source": []
  }
 ],
 "metadata": {
  "kernelspec": {
   "display_name": "Python 3 (ipykernel)",
   "language": "python",
   "name": "python3"
  },
  "language_info": {
   "codemirror_mode": {
    "name": "ipython",
    "version": 3
   },
   "file_extension": ".py",
   "mimetype": "text/x-python",
   "name": "python",
   "nbconvert_exporter": "python",
   "pygments_lexer": "ipython3",
   "version": "3.11.5"
  },
  "vscode": {
   "interpreter": {
    "hash": "31f2aee4e71d21fbe5cf8b01ff0e069b9275f58929596ceb00d14d90e3e16cd6"
   }
  }
 },
 "nbformat": 4,
 "nbformat_minor": 4
}
